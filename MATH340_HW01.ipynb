{
 "cells": [
  {
   "cell_type": "markdown",
   "id": "ab3a79e5-4f2e-4e91-bef4-3ed87ab1ce2a",
   "metadata": {
    "id": "ab3a79e5-4f2e-4e91-bef4-3ed87ab1ce2a"
   },
   "source": [
    "<center>\n",
    "<div class=\"alert alert-block alert-info\">\n",
    "    <h1> </h1>\n",
    "    <h1><font size=\"+3\"> <b> Math340 HW1 </b> </font></h1>\n",
    "    <h1><font size=\"+3\"> <b> Programming in Mathematics </b> </font></h1>\n",
    "    <h1><font size=\"+3\"> <b> Due September 6, 2024 </b> </font></h1>\n",
    "    \n",
    "</div>\n",
    "</center>\n",
    "\n",
    "<br>\n",
    "\n",
    "\n",
    "\n",
    "<center>\n",
    "<font size=\"+2\">\n",
    "Department of Mathematics and Statistics <br> <br>\n",
    "San Diego State University <br> <br>\n",
    "Fall 2024\n",
    "</font>\n",
    "</center>\n",
    "\n",
    "\n",
    "\n",
    "\n",
    "\n",
    "\n"
   ]
  },
  {
   "cell_type": "markdown",
   "id": "d1d7dfac",
   "metadata": {
    "id": "d1d7dfac"
   },
   "source": [
    "Your Name: Victor Allen\n",
    "\n",
    "Your ID: 132107570"
   ]
  },
  {
   "cell_type": "markdown",
   "id": "ac00d7e8-7894-471c-b22c-534f7bb771c5",
   "metadata": {
    "id": "ac00d7e8-7894-471c-b22c-534f7bb771c5"
   },
   "source": [
    "## 1. Summary"
   ]
  },
  {
   "cell_type": "markdown",
   "id": "e5e767c2-73b8-4c0e-97e4-4e44b568eba4",
   "metadata": {
    "id": "e5e767c2-73b8-4c0e-97e4-4e44b568eba4"
   },
   "source": [
    "We took a survey, downloaded anaconda and wrote a hello world program."
   ]
  },
  {
   "cell_type": "markdown",
   "id": "c2d32951-96b7-4688-a721-8c2468b075e5",
   "metadata": {
    "id": "c2d32951-96b7-4688-a721-8c2468b075e5"
   },
   "source": [
    "## 2. Methodology"
   ]
  },
  {
   "cell_type": "markdown",
   "id": "06e8a2a7",
   "metadata": {
    "id": "06e8a2a7"
   },
   "source": [
    "Followed Instructions. "
   ]
  },
  {
   "cell_type": "markdown",
   "id": "6241913d-4853-4c7d-b624-709b27e427e5",
   "metadata": {
    "id": "6241913d-4853-4c7d-b624-709b27e427e5"
   },
   "source": [
    "## 3. Code and Results (e.g., Tables, Figures, Outputs)"
   ]
  },
  {
   "cell_type": "markdown",
   "id": "875c1e32",
   "metadata": {
    "id": "875c1e32"
   },
   "source": [
    "### Results for Question 1 (within a Markdown cell)"
   ]
  },
  {
   "cell_type": "markdown",
   "id": "a860ddd0-3495-4800-80b3-2b52df15cef3",
   "metadata": {
    "id": "36708339"
   },
   "source": [
    "Took Course Survey. "
   ]
  },
  {
   "cell_type": "markdown",
   "id": "a08c5884",
   "metadata": {
    "id": "a08c5884"
   },
   "source": [
    "### Results for Question 2 (within a Markdown cell)"
   ]
  },
  {
   "cell_type": "markdown",
   "id": "a9357266-7753-452e-ab8e-9cc1c71ca7d3",
   "metadata": {
    "id": "db376cb8"
   },
   "source": [
    "See Attached File. "
   ]
  },
  {
   "cell_type": "markdown",
   "id": "7d605a4c",
   "metadata": {
    "id": "7d605a4c"
   },
   "source": [
    "### Results for Question 3 (within a Markdown cell)"
   ]
  },
  {
   "cell_type": "code",
   "execution_count": 7,
   "id": "e9a18bdd",
   "metadata": {
    "id": "e9a18bdd"
   },
   "outputs": [
    {
     "name": "stdout",
     "output_type": "stream",
     "text": [
      "Hello World\n"
     ]
    }
   ],
   "source": [
    "print(\"Hello World\")"
   ]
  },
  {
   "cell_type": "code",
   "execution_count": 17,
   "id": "6dde7bb6-0049-4dfc-a8e8-4fa551c75c0d",
   "metadata": {},
   "outputs": [
    {
     "name": "stdout",
     "output_type": "stream",
     "text": [
      "Current Time = 12:59:41 2025-01-24\n"
     ]
    }
   ],
   "source": [
    "from datetime import datetime\n",
    "print(f\"Current Time = {datetime.now().strftime(\"%H:%M:%S %Y-%m-%d\")}\")"
   ]
  },
  {
   "cell_type": "code",
   "execution_count": null,
   "id": "be8a6ff1-a00e-4cb1-ac33-54a043ba0fc0",
   "metadata": {},
   "outputs": [],
   "source": []
  }
 ],
 "metadata": {
  "colab": {
   "provenance": []
  },
  "kernelspec": {
   "display_name": "Python [conda env:base] *",
   "language": "python",
   "name": "conda-base-py"
  },
  "language_info": {
   "codemirror_mode": {
    "name": "ipython",
    "version": 3
   },
   "file_extension": ".py",
   "mimetype": "text/x-python",
   "name": "python",
   "nbconvert_exporter": "python",
   "pygments_lexer": "ipython3",
   "version": "3.12.7"
  }
 },
 "nbformat": 4,
 "nbformat_minor": 5
}
