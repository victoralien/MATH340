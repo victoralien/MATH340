{
  "cells": [
    {
      "cell_type": "markdown",
      "id": "ab3a79e5-4f2e-4e91-bef4-3ed87ab1ce2a",
      "metadata": {
        "id": "ab3a79e5-4f2e-4e91-bef4-3ed87ab1ce2a"
      },
      "source": [
        "<center>\n",
        "<div class=\"alert alert-block alert-info\">\n",
        "    <h1> </h1>\n",
        "    <h1><font size=\"+3\"> <b> Math340 HW2 </b> </font></h1>\n",
        "    <h1><font size=\"+3\"> <b> Programming in Mathematics </b> </font></h1>\n",
        "    <h1><font size=\"+3\"> <b> Due 2/7/2025 </b> </font></h1>\n",
        "    \n",
        "</div>\n",
        "</center>\n",
        "\n",
        "<br>\n",
        "\n",
        "\n",
        "\n",
        "<center>\n",
        "<font size=\"+2\">\n",
        "Department of Mathematics and Statistics <br> <br>\n",
        "San Diego State University <br> <br>\n",
        "SP 2025\n",
        "</font>\n",
        "</center>\n",
        "\n",
        "\n",
        "\n",
        "\n",
        "\n",
        "\n"
      ]
    },
    {
      "cell_type": "markdown",
      "id": "d1d7dfac",
      "metadata": {
        "id": "d1d7dfac"
      },
      "source": [
        "## Your Name: Victor Allen\n",
        "\n",
        "## Your ID: 132107570"
      ]
    },
    {
      "cell_type": "markdown",
      "id": "ac00d7e8-7894-471c-b22c-534f7bb771c5",
      "metadata": {
        "id": "ac00d7e8-7894-471c-b22c-534f7bb771c5"
      },
      "source": [
        "## 1. Summary"
      ]
    },
    {
      "cell_type": "markdown",
      "id": "e5e767c2-73b8-4c0e-97e4-4e44b568eba4",
      "metadata": {
        "id": "e5e767c2-73b8-4c0e-97e4-4e44b568eba4"
      },
      "source": [
        "I converted a while loop into a for loop. Then I printed a February 2025 calendar in the format specified by the !cal 2 2025 command. Importantly there was no date to hightlight. I then found the place in the interest problem where the += operator would be useful, and did the problem by hand. Then we asked ChatGPT a question and pasted its response, and added the mathematical 5 dimension lorenz equations to the end of the file, and placed them in an Overleaf file submitted that as well. "
      ]
    },
    {
      "cell_type": "markdown",
      "id": "c2d32951-96b7-4688-a721-8c2468b075e5",
      "metadata": {
        "id": "c2d32951-96b7-4688-a721-8c2468b075e5"
      },
      "source": [
        "## 2. Methodology"
      ]
    },
    {
      "cell_type": "markdown",
      "id": "06e8a2a7",
      "metadata": {
        "id": "06e8a2a7"
      },
      "source": [
        "For the loop, I chose to count up to 8 and subtract that number from 10 and print the result, which results in the same thing as counting down. I stored the days in the week in an array and printed that, as well as the month and year. Then I counted up to the end of the month, and made a decisions to print either space or a number, and determined if there was a need to move the cursor down. In the interest problem I just replaced any instance of x = x + 1, with x += 1, which is the same thing. The last problem I just copied the format of the provided equations and modified them for the question.  "
      ]
    },
    {
      "cell_type": "markdown",
      "id": "6241913d-4853-4c7d-b624-709b27e427e5",
      "metadata": {
        "id": "6241913d-4853-4c7d-b624-709b27e427e5"
      },
      "source": [
        "## 3. Code and Results (e.g., Tables, Figures, Outputs)"
      ]
    },
    {
      "cell_type": "markdown",
      "id": "875c1e32",
      "metadata": {
        "id": "875c1e32"
      },
      "source": [
        "### Results for Question 1 (within a Markdown cell)"
      ]
    },
    {
      "cell_type": "code",
      "execution_count": 50,
      "id": "36708339",
      "metadata": {
        "id": "36708339"
      },
      "outputs": [
        {
          "name": "stdout",
          "output_type": "stream",
          "text": [
            "10\n",
            "9\n",
            "8\n",
            "7\n",
            "6\n",
            "5\n",
            "4\n",
            "3\n"
          ]
        }
      ],
      "source": [
        "a = 10\n",
        "while a > 2:\n",
        "    print(a)\n",
        "    a -= 1"
      ]
    },
    {
      "cell_type": "code",
      "execution_count": 51,
      "id": "516b1217",
      "metadata": {},
      "outputs": [
        {
          "name": "stdout",
          "output_type": "stream",
          "text": [
            "10\n",
            "9\n",
            "8\n",
            "7\n",
            "6\n",
            "5\n",
            "4\n",
            "3\n"
          ]
        }
      ],
      "source": [
        "for i in range(8):\n",
        "    print(10 - i)"
      ]
    },
    {
      "cell_type": "markdown",
      "id": "a08c5884",
      "metadata": {
        "id": "a08c5884"
      },
      "source": [
        "### Results for Question 2 (within a Markdown cell)"
      ]
    },
    {
      "cell_type": "code",
      "execution_count": 57,
      "id": "db376cb8",
      "metadata": {
        "id": "db376cb8"
      },
      "outputs": [
        {
          "name": "stdout",
          "output_type": "stream",
          "text": [
            "   February 2025\n",
            "Su Mo Tu We Th Fr Sa\n",
            "                   1 \n",
            " 2  3  4  5  6  7  8 \n",
            " 9 10 11 12 13 14 15 \n",
            "16 17 18 19 20 21 22 \n",
            "23 24 25 26 27 28 "
          ]
        }
      ],
      "source": [
        "daysInWeek = [\"Su\", \"Mo\", \"Tu\", \"We\", \"Th\", \"Fr\", \"Sa\"]\n",
        "\n",
        "daysInMonth = 28\n",
        "\n",
        "print(\"   February 2025\")\n",
        "print(\" \".join(daysInWeek))\n",
        "\n",
        "\n",
        "for i in range(1,daysInMonth + 7):\n",
        "    print(\"\\n\" if ((i - 1) % 7 == 0 and i != 1) else \"\", end = \"\")\n",
        "    print(f\"   \" if i < 7 else f\"{(i-6):2} \", end=\"\")"
      ]
    },
    {
      "cell_type": "code",
      "execution_count": 53,
      "id": "0835a965",
      "metadata": {},
      "outputs": [
        {
          "name": "stdout",
          "output_type": "stream",
          "text": [
            "   February 2025      \n",
            "Su Mo Tu We Th Fr Sa  \n",
            "                   1  \n",
            " 2  3  4  5  6  7  8  \n",
            " 9 10 11 12 13 14 15  \n",
            "16 17 18 19 20 21 22  \n",
            "23 24 25 26 27 28     \n",
            "                      \n"
          ]
        }
      ],
      "source": [
        "!cal 2 2025"
      ]
    },
    {
      "cell_type": "markdown",
      "id": "7d605a4c",
      "metadata": {
        "id": "7d605a4c"
      },
      "source": [
        "### Results for Question 3 (within a Markdown cell)"
      ]
    },
    {
      "cell_type": "code",
      "execution_count": 54,
      "id": "e9a18bdd",
      "metadata": {
        "id": "e9a18bdd"
      },
      "outputs": [
        {
          "name": "stdout",
          "output_type": "stream",
          "text": [
            "For 1 Year, Current Funds: $105.60\n",
            "For 2 Years, Current Funds: $111.51\n",
            "For 3 Years, Current Funds: $117.76\n",
            "For 4 Years, Current Funds: $124.35\n",
            "For 5 Years, Current Funds: $131.32\n",
            "For 6 Years, Current Funds: $138.67\n",
            "For 7 Years, Current Funds: $146.44\n"
          ]
        }
      ],
      "source": [
        "initial_funds = 100\n",
        "current_funds = initial_funds\n",
        "interest_rate = 5.6\n",
        "\n",
        "for year in range(1,8):\n",
        "    current_funds = current_funds + (interest_rate / 100) * current_funds\n",
        "    print(f\"For {year} {'Year' if year == 1 else 'Years'}, Current Funds: ${current_funds:.2f}\")"
      ]
    },
    {
      "cell_type": "code",
      "execution_count": 55,
      "id": "7f7b7200",
      "metadata": {
        "id": "7f7b7200"
      },
      "outputs": [
        {
          "name": "stdout",
          "output_type": "stream",
          "text": [
            "For 1 Year, Current Funds: $105.60\n",
            "For 2 Years, Current Funds: $111.51\n",
            "For 3 Years, Current Funds: $117.76\n",
            "For 4 Years, Current Funds: $124.35\n",
            "For 5 Years, Current Funds: $131.32\n",
            "For 6 Years, Current Funds: $138.67\n",
            "For 7 Years, Current Funds: $146.44\n"
          ]
        }
      ],
      "source": [
        "initial_funds = 100\n",
        "current_funds = initial_funds\n",
        "interest_rate = 5.6\n",
        "\n",
        "for year in range(1,8):\n",
        "    current_funds += (interest_rate / 100) * current_funds\n",
        "    print(f\"For {year} {'Year' if year == 1 else 'Years'}, Current Funds: ${current_funds:.2f}\")"
      ]
    },
    {
      "cell_type": "markdown",
      "id": "af3c13c9",
      "metadata": {},
      "source": [
        "### Results for Question 4"
      ]
    },
    {
      "cell_type": "markdown",
      "id": "f1b0b8f5",
      "metadata": {},
      "source": [
        "From ChatGPT-4.o : \n",
        "\n",
        "Mutable vs Immutable Variables in Python\n",
        "Mutable Variables:\n",
        "\n",
        "Can be changed after creation (their content or state can be modified).\n",
        "Examples: list, dict, set, and custom user-defined objects.\n",
        "Operations that modify mutable objects do so in place.\n",
        "Immutable Variables:\n",
        "\n",
        "Cannot be changed after creation (any modification results in a new object).\n",
        "Examples: int, float, str, tuple, frozenset.\n",
        "Assigning new values creates entirely new objects in memory.\n",
        "\n",
        "Key Differences:\n",
        "Mutability: Mutable objects allow changes, while immutable ones do not.\n",
        "Efficiency: Immutable objects are more memory-efficient for small, frequently-used data.\n",
        "Use Case: Immutable objects are safer in concurrent environments since they avoid unintended side effects."
      ]
    },
    {
      "cell_type": "markdown",
      "id": "5fc4f5e8",
      "metadata": {},
      "source": [
        "### Results for Question 5\n",
        "(a)"
      ]
    },
    {
      "cell_type": "markdown",
      "id": "c482cd01",
      "metadata": {},
      "source": [
        "$$ {\\partial X \\over \\partial \\tau } = \\sigma Y - \\sigma X$$\n",
        "$$ {\\partial Y \\over \\partial \\tau } = -XZ + r X - Y $$\n",
        "$$ {\\partial Z \\over \\partial \\tau } = XY - \\beta Z $$"
      ]
    },
    {
      "cell_type": "markdown",
      "id": "1288313b",
      "metadata": {},
      "source": [
        "(b) "
      ]
    },
    {
      "cell_type": "markdown",
      "id": "9fa07351",
      "metadata": {},
      "source": [
        "$$ {\\frac{dx}{dt}} = \\sigma (y - x) $$ \n",
        "$$ {\\frac{dy}{dt}} = x(\\rho - z) - y $$ \n",
        "$$ {\\frac{dz}{dt}} = xy-xy_1 - \\beta z $$ \n",
        "$$ {\\frac{dy_1}{dt}} = xz-2xz_1 - d_0y_1 $$ \n",
        "$$ {\\frac{dz_1}{dt}} = 2xy_1 - 4\\beta z_1 $$ \n",
        "\n"
      ]
    }
  ],
  "metadata": {
    "colab": {
      "provenance": []
    },
    "kernelspec": {
      "display_name": "Python 3",
      "language": "python",
      "name": "python3"
    },
    "language_info": {
      "codemirror_mode": {
        "name": "ipython",
        "version": 3
      },
      "file_extension": ".py",
      "mimetype": "text/x-python",
      "name": "python",
      "nbconvert_exporter": "python",
      "pygments_lexer": "ipython3",
      "version": "3.9.6"
    }
  },
  "nbformat": 4,
  "nbformat_minor": 5
}
