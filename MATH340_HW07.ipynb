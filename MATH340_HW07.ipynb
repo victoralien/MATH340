{
  "cells": [
    {
      "cell_type": "markdown",
      "id": "ab3a79e5-4f2e-4e91-bef4-3ed87ab1ce2a",
      "metadata": {
        "id": "ab3a79e5-4f2e-4e91-bef4-3ed87ab1ce2a"
      },
      "source": [
        "<center>\n",
        "<div class=\"alert alert-block alert-info\">\n",
        "    <h1> </h1>\n",
        "    <h1><font size=\"+3\"> <b> Math340 HW07 </b> </font></h1>\n",
        "    <h1><font size=\"+3\"> <b> Programming in Mathematics </b> </font></h1>\n",
        "    <h1><font size=\"+3\"> <b> Due 3/24/25 </b> </font></h1>\n",
        "    \n",
        "</div>\n",
        "</center>\n",
        "\n",
        "<br>\n",
        "\n",
        "\n",
        "\n",
        "<center>\n",
        "<font size=\"+2\">\n",
        "Department of Mathematics and Statistics <br> <br>\n",
        "San Diego State University <br> <br>\n",
        "Spring 2025\n",
        "</font>\n",
        "</center>\n",
        "\n",
        "\n",
        "\n",
        "\n",
        "\n",
        "\n"
      ]
    },
    {
      "cell_type": "markdown",
      "id": "d1d7dfac",
      "metadata": {
        "id": "d1d7dfac"
      },
      "source": [
        "## Your Name: Victor Allen \n",
        "\n",
        "## Your ID: 132107570"
      ]
    },
    {
      "cell_type": "markdown",
      "id": "ac00d7e8-7894-471c-b22c-534f7bb771c5",
      "metadata": {
        "id": "ac00d7e8-7894-471c-b22c-534f7bb771c5"
      },
      "source": [
        "## 1. Summary"
      ]
    },
    {
      "cell_type": "markdown",
      "id": "e5e767c2-73b8-4c0e-97e4-4e44b568eba4",
      "metadata": {
        "id": "e5e767c2-73b8-4c0e-97e4-4e44b568eba4"
      },
      "source": [
        "Calculated the largest fibonacci number that can be represented by a 64 bit integer, and found the m such that (lambda) ^ m < fib < (lambda) ^ m + 1\n",
        "\n",
        "Ran code to find the largest prime number in 20 seconds. Ran the code 4 times.\n",
        "\n",
        "Finished the backpropogation code. "
      ]
    },
    {
      "cell_type": "markdown",
      "id": "c2d32951-96b7-4688-a721-8c2468b075e5",
      "metadata": {
        "id": "c2d32951-96b7-4688-a721-8c2468b075e5"
      },
      "source": [
        "## 2. Methodology"
      ]
    },
    {
      "cell_type": "markdown",
      "id": "06e8a2a7",
      "metadata": {
        "id": "06e8a2a7"
      },
      "source": [
        "For question 1 I calculated the largest possible integer representable by 64 bits, then I calculated a fibonacci sequence and checked if the number I found was larger than the largest possible 64 bit integer. If it was I returned the fib number before it. I also modified the fib function to run in constant space. Then I ran throgh M values until the condition was met the the golden ratio = to 1.618\n",
        "\n",
        "For question 2, I copy pasted the code from colab, then wrote a loop that runs the code 4 times, and reported the output each time. \n",
        "\n",
        "I followed the math in the instructions to provide the correct output. "
      ]
    },
    {
      "cell_type": "markdown",
      "id": "6241913d-4853-4c7d-b624-709b27e427e5",
      "metadata": {
        "id": "6241913d-4853-4c7d-b624-709b27e427e5"
      },
      "source": [
        "## 3. Code and Results (e.g., Tables, Figures, Outputs)"
      ]
    },
    {
      "cell_type": "markdown",
      "id": "875c1e32",
      "metadata": {
        "id": "875c1e32"
      },
      "source": [
        "### Results for Question 1 (within a Markdown cell)"
      ]
    },
    {
      "cell_type": "code",
      "execution_count": 4,
      "id": "36708339",
      "metadata": {
        "id": "36708339"
      },
      "outputs": [
        {
          "name": "stdout",
          "output_type": "stream",
          "text": [
            "The largest Fibonacci number representable by a 64-bit integer is: 7540113804746346429\n",
            "The value of m is: 90\n"
          ]
        }
      ],
      "source": [
        "# Question 1\n",
        "# Add your code for Question 1 here (inside a code cell)\n",
        "import numpy as np\n",
        "\n",
        "maxValue = np.iinfo(np.int64).max\n",
        "\n",
        "fib = [0,1]\n",
        "\n",
        "while True:\n",
        "    nextFib = fib[-1] + fib[-2]\n",
        "\n",
        "    if(nextFib > maxValue):\n",
        "        break\n",
        "\n",
        "\n",
        "    # Constant Space. \n",
        "    fib[0] = fib[1]\n",
        "    fib[1] = nextFib\n",
        "\n",
        "print(\"The largest Fibonacci number representable by a 64-bit integer is:\", fib[1])\n",
        "\n",
        "phi = 1.618\n",
        "\n",
        "m = 0\n",
        "\n",
        "while True:\n",
        "    if(np.power(phi,m) < fib[-1] and np.power(phi, m + 1) > fib[-1]):\n",
        "        break\n",
        "\n",
        "    m +=1 \n",
        "\n",
        "print(\"The value of m is:\",m)\n"
      ]
    },
    {
      "cell_type": "markdown",
      "id": "a08c5884",
      "metadata": {
        "id": "a08c5884"
      },
      "source": [
        "### Results for Question 2 (within a Markdown cell)"
      ]
    },
    {
      "cell_type": "code",
      "execution_count": 4,
      "id": "db376cb8",
      "metadata": {
        "id": "db376cb8"
      },
      "outputs": [
        {
          "name": "stdout",
          "output_type": "stream",
          "text": [
            "CPU Specs: arm\n",
            "Operating System: Darwin 24.3.0\n",
            "\n",
            "Iteration: 1\n",
            "Time's up! Largest prime found within the time limit: 6355759\n",
            "\n",
            "Iteration: 2\n",
            "Time's up! Largest prime found within the time limit: 6398857\n",
            "\n",
            "Iteration: 3\n",
            "Time's up! Largest prime found within the time limit: 6398017\n",
            "\n",
            "Iteration: 4\n",
            "Time's up! Largest prime found within the time limit: 6420079\n"
          ]
        }
      ],
      "source": [
        "import signal\n",
        "import time\n",
        "import platform\n",
        "\n",
        "# Function to check if a number is prime\n",
        "def is_prime(num):\n",
        "    if num <= 1:\n",
        "        return False\n",
        "    if num == 2:\n",
        "        return True\n",
        "    if num % 2 == 0:\n",
        "        return False\n",
        "    for i in range(3, int(num**0.5) + 1, 2):\n",
        "        if num % i == 0:\n",
        "            return False\n",
        "    return True\n",
        "\n",
        "# Function to find the largest prime number within a time limit\n",
        "def find_largest_prime():\n",
        "    largest_prime = 2\n",
        "    num = 3\n",
        "\n",
        "    def alarm_handler(signum, frame):\n",
        "        raise TimeoutError(\"Time's up!\")\n",
        "\n",
        "    signal.signal(signal.SIGALRM, alarm_handler)\n",
        "    signal.alarm(20)  # Set the alarm for 20 seconds\n",
        "\n",
        "    try:\n",
        "        while True:\n",
        "            if is_prime(num):\n",
        "                largest_prime = num\n",
        "            num += 2\n",
        "    except TimeoutError:\n",
        "        print(\"Time's up! Largest prime found within the time limit:\", largest_prime)\n",
        "        signal.alarm(0)  # Disable the alarm\n",
        "\n",
        "if __name__ == \"__main__\":\n",
        "    print(\"CPU Specs:\", platform.processor())\n",
        "    print(\"Operating System:\", platform.system(), platform.release())\n",
        "    \n",
        "    for i in range(4):\n",
        "        print(\"\\nIteration:\", i + 1) \n",
        "        find_largest_prime()"
      ]
    },
    {
      "cell_type": "markdown",
      "id": "7d605a4c",
      "metadata": {
        "id": "7d605a4c"
      },
      "source": [
        "### Results for Question 3 (within a Markdown cell)"
      ]
    },
    {
      "cell_type": "code",
      "execution_count": 13,
      "id": "e9a18bdd",
      "metadata": {
        "id": "e9a18bdd"
      },
      "outputs": [
        {
          "name": "stdout",
          "output_type": "stream",
          "text": [
            "Initial Loss: 0.1782045\n",
            "Updated w1: 0.3020895\n",
            "x: 0.29000000000000004\n",
            "a: 0.29000000000000004\n",
            "z: 0.403\n",
            "predicted_q: 0.403\n",
            "dL_dq_hat: -0.597\n",
            "dL_dw1: -0.20894999999999997\n"
          ]
        }
      ],
      "source": [
        "u = .5\n",
        "v = .1\n",
        "w1 = .3\n",
        "w2 = .4\n",
        "b1 = .1\n",
        "w3 = .7\n",
        "b2 = .2\n",
        "targetQ = 1\n",
        "learningRate = .01\n",
        "\n",
        "x = (u * w1) + (v * w2) + b1\n",
        "\n",
        "a = x\n",
        "\n",
        "z = (a * w3) + b2\n",
        "\n",
        "predictedQ = z\n",
        "\n",
        "L = .5 * (predictedQ - targetQ) ** 2\n",
        "\n",
        "print(f\"Initial Loss: {L}\")\n",
        "\n",
        "dL_dq_hat = predictedQ - targetQ\n",
        "\n",
        "dL_dz = dL_dq_hat\n",
        "\n",
        "dL_dw1 = dL_dz * w3 * u\n",
        "\n",
        "w1 = w1 - learningRate * dL_dw1\n",
        "print(f\"Updated w1: {w1}\")\n",
        "\n",
        "print(f\"x: {x}\")\n",
        "print(f\"a: {a}\")\n",
        "print(f\"z: {z}\")\n",
        "print(f\"predicted_q: {predictedQ}\")\n",
        "print(f\"dL_dq_hat: {dL_dq_hat}\")\n",
        "print(f\"dL_dw1: {dL_dw1}\")"
      ]
    }
  ],
  "metadata": {
    "colab": {
      "provenance": []
    },
    "kernelspec": {
      "display_name": "Python 3",
      "language": "python",
      "name": "python3"
    },
    "language_info": {
      "codemirror_mode": {
        "name": "ipython",
        "version": 3
      },
      "file_extension": ".py",
      "mimetype": "text/x-python",
      "name": "python",
      "nbconvert_exporter": "python",
      "pygments_lexer": "ipython3",
      "version": "3.9.6"
    }
  },
  "nbformat": 4,
  "nbformat_minor": 5
}
