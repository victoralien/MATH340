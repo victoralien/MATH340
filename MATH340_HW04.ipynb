{
  "cells": [
    {
      "cell_type": "markdown",
      "id": "ab3a79e5-4f2e-4e91-bef4-3ed87ab1ce2a",
      "metadata": {
        "id": "ab3a79e5-4f2e-4e91-bef4-3ed87ab1ce2a"
      },
      "source": [
        "<center>\n",
        "<div class=\"alert alert-block alert-info\">\n",
        "    <h1> </h1>\n",
        "    <h1><font size=\"+3\"> <b> Math340 HW </b> </font></h1>\n",
        "    <h1><font size=\"+3\"> <b> Programming in Mathematics </b> </font></h1>\n",
        "    <h1><font size=\"+3\"> <b> Due  2/21/24</b> </font></h1>\n",
        "    \n",
        "</div>\n",
        "</center>\n",
        "\n",
        "<br>\n",
        "\n",
        "\n",
        "\n",
        "<center>\n",
        "<font size=\"+2\">\n",
        "Department of Mathematics and Statistics <br> <br>\n",
        "San Diego State University <br> <br>\n",
        "Spring 2025\n",
        "</font>\n",
        "</center>\n",
        "\n",
        "\n",
        "\n",
        "\n",
        "\n",
        "\n"
      ]
    },
    {
      "cell_type": "markdown",
      "id": "d1d7dfac",
      "metadata": {
        "id": "d1d7dfac"
      },
      "source": [
        "## Your Name: Victor Allen \n",
        "\n",
        "## Your ID: 132107570"
      ]
    },
    {
      "cell_type": "markdown",
      "id": "ac00d7e8-7894-471c-b22c-534f7bb771c5",
      "metadata": {
        "id": "ac00d7e8-7894-471c-b22c-534f7bb771c5"
      },
      "source": [
        "## 1. Summary"
      ]
    },
    {
      "cell_type": "markdown",
      "id": "e5e767c2-73b8-4c0e-97e4-4e44b568eba4",
      "metadata": {
        "id": "e5e767c2-73b8-4c0e-97e4-4e44b568eba4"
      },
      "source": [
        "- Wrote functions for the vector dot product, magnitude and cosine similaritys, then compared 7 vectors to each other and ouput the values as a matrix. \n",
        "\n",
        "- Compared Truncating and Rounding\n",
        "\n",
        "- Scanned a wikipedia page for the term \"butterfly effect\" "
      ]
    },
    {
      "cell_type": "markdown",
      "id": "c2d32951-96b7-4688-a721-8c2468b075e5",
      "metadata": {
        "id": "c2d32951-96b7-4688-a721-8c2468b075e5"
      },
      "source": [
        "## 2. Methodology"
      ]
    },
    {
      "cell_type": "markdown",
      "id": "06e8a2a7",
      "metadata": {
        "id": "06e8a2a7"
      },
      "source": [
        "1) I wrote the functions using the definitions I found online, and using for loops to traverse the input vectors. Created a dictionary with a name of a color and its corresponing vecotor, then allocated an output matrix, and used nested for loops to compare each vector to all the others, and stored the results in the matrix. Printed the matrix formatted to 3 decimal points using rounding. \n",
        "\n",
        "2) Answered the question about the differences between truncating and simmilarity, then answered a hypothedtical about what 1b. would have looked like if I had used truncation instead of rounding. \n",
        "\n",
        "3) Used the code provided to initialize and get a list of all the words in the wikipedia article. Allocated flag, and freq variables to scan the article for the term butterfly effect. Looped through all the words in the article, trimmed the word to remove punctuation that might be appened at the ends, like periods, commas, and parenthases. Set all the characters in the word to lower case, if the word then matched the string \"butterfly\" the flag was set to 1. If the flag was set to 1, in the next loop iteration, the word was trimmed and compared to \"effect\", if it matched, freq was incremented. Either way the flag was reset to 0. "
      ]
    },
    {
      "cell_type": "markdown",
      "id": "6241913d-4853-4c7d-b624-709b27e427e5",
      "metadata": {
        "id": "6241913d-4853-4c7d-b624-709b27e427e5"
      },
      "source": [
        "## 3. Code and Results (e.g., Tables, Figures, Outputs)"
      ]
    },
    {
      "cell_type": "markdown",
      "id": "875c1e32",
      "metadata": {
        "id": "875c1e32"
      },
      "source": [
        "### Results for Question 1 (within a Markdown cell)"
      ]
    },
    {
      "cell_type": "code",
      "execution_count": null,
      "id": "36708339",
      "metadata": {
        "id": "36708339"
      },
      "outputs": [
        {
          "name": "stdout",
          "output_type": "stream",
          "text": [
            "[[1.000 0.840 0.707 0.000 0.000 0.500 0.707]\n",
            " [0.840 1.000 0.978 0.543 0.000 0.420 0.594]\n",
            " [0.707 0.978 1.000 0.707 0.000 0.353 0.500]\n",
            " [0.000 0.543 0.707 1.000 0.000 0.000 0.000]\n",
            " [0.000 0.000 0.000 0.000 1.000 0.866 0.707]\n",
            " [0.500 0.420 0.353 0.000 0.866 1.000 0.966]\n",
            " [0.707 0.594 0.500 0.000 0.707 0.966 1.000]]\n"
          ]
        }
      ],
      "source": [
        "# Question 1\n",
        "# Add your code for Question 1 here (inside a code cell)\n",
        "import numpy as np\n",
        "import math\n",
        "\n",
        "def dot(A,B):\n",
        "    if(len(A) != len(B)):\n",
        "        print(f\"Dot Product of {A}, {B} not possible!\")\n",
        "        return\n",
        "    \n",
        "    product = 0\n",
        "\n",
        "    for i in range(len(A)):\n",
        "        product += A[i]*B[i]\n",
        "\n",
        "    return product\n",
        "\n",
        "def mag(A):\n",
        "    sumSquares = 0\n",
        "    for i in range(len(A)):\n",
        "        sumSquares += A[i] ** 2\n",
        "    \n",
        "    return math.sqrt(sumSquares)\n",
        "\n",
        "def cosSim(A,B):\n",
        "   return dot(A,B) / (mag(A) * mag(B))\n",
        "\n",
        "colors = {\n",
        "    \"red\" : [255,0,0],\n",
        "    \"orange\": [255,165,0],\n",
        "    \"yellow\": [255,255,0],\n",
        "    \"green\": [0,128,0],\n",
        "    \"blue\":[0,0,255],\n",
        "    \"indigo\":[75,0,130],\n",
        "    \"violet\":[128,0,128]\n",
        "}\n",
        "\n",
        "n = len(colors)\n",
        "colorNames = list(colors.keys())\n",
        "simMatrix = np.zeros((n,n))\n",
        "\n",
        "for i in range(n):\n",
        "    for j in range(n):\n",
        "        simMatrix[i][j] = cosSim(colors[colorNames[i]], colors[colorNames[j]])\n",
        "\n",
        "\n",
        "formatted_matrix = np.array2string(simMatrix, formatter={'float_kind': lambda x: f\"{x:.3f}\"})\n",
        "\n",
        "print(formatted_matrix)\n",
        "# Run the cell to display your results"
      ]
    },
    {
      "cell_type": "markdown",
      "id": "a08c5884",
      "metadata": {
        "id": "a08c5884"
      },
      "source": [
        "### Results for Question 2 (within a Markdown cell)"
      ]
    },
    {
      "cell_type": "markdown",
      "id": "4ade4bfc",
      "metadata": {},
      "source": [
        "Rounding to a digit... rounds to that digit, if the digit after is < 5 it gets rounded down to zero, and the digit before stays the same. 4.53 rounded to one digit is 4.5, but if the number is >= 5, the digit gets one added to it. 4.55 rounded to one digit is 4.6. \n",
        "\n",
        "Truncation just chops the extra digits off without rounding them. 4.53 and 4.55 truncated to 1 digit are both 4.5. \n",
        "\n",
        "In question 1b, I rounded the output to three decimal places, if I had chosen to truncate, the output would be a little different. "
      ]
    },
    {
      "cell_type": "markdown",
      "id": "7d605a4c",
      "metadata": {
        "id": "7d605a4c"
      },
      "source": [
        "### Results for Question 3 (within a Markdown cell)"
      ]
    },
    {
      "cell_type": "code",
      "execution_count": 18,
      "id": "a58e0090",
      "metadata": {},
      "outputs": [
        {
          "name": "stdout",
          "output_type": "stream",
          "text": [
            "   October 2025\n",
            "Su Mo Tu We Th Fr Sa\n",
            "          1  2  3  4 \n",
            " 5 \u001b[1;32;40m 6\u001b[0m  7  8  9 10 11 \n",
            "12 13 14 15 16 17 18 \n",
            "19 20 21 22 23 24 25 \n",
            "26 27 28 29 30 31 "
          ]
        }
      ],
      "source": [
        "import calendar\n",
        "\n",
        "def print_month(year, month, offset, highlight = None):\n",
        "    days_in_week = [\"Su\", \"Mo\", \"Tu\", \"We\", \"Th\", \"Fr\", \"Sa\"]\n",
        "    daysInMonth = calendar.monthrange(year, month)[1]\n",
        "\n",
        "    print(f\"   {calendar.month_name[month]} {year}\")\n",
        "    print(\" \".join(days_in_week))\n",
        "\n",
        "    for i in range(offset):\n",
        "        print(\"   \", end = \"\")\n",
        "\n",
        "    for i in range(daysInMonth):\n",
        "        if( (i + offset) % 7 == 0):\n",
        "            print(\"\\n\", end = \"\")\n",
        "        \n",
        "        if highlight != None and i + 1 == highlight:\n",
        "                print(f\"\\033[1;32;40m{i + 1:2}\\033[0m \", end=\"\")\n",
        "        else:\n",
        "                print(f\"{i + 1:2} \", end=\"\")\n",
        "\n",
        "print_month(2025, 10, 3, highlight=6)"
      ]
    },
    {
      "cell_type": "code",
      "execution_count": 1,
      "id": "e9a18bdd",
      "metadata": {
        "id": "e9a18bdd"
      },
      "outputs": [
        {
          "name": "stderr",
          "output_type": "stream",
          "text": [
            "/Users/victorallen/Library/Python/3.9/lib/python/site-packages/urllib3/__init__.py:35: NotOpenSSLWarning: urllib3 v2 only supports OpenSSL 1.1.1+, currently the 'ssl' module is compiled with 'LibreSSL 2.8.3'. See: https://github.com/urllib3/urllib3/issues/3020\n",
            "  warnings.warn(\n"
          ]
        },
        {
          "name": "stdout",
          "output_type": "stream",
          "text": [
            "Frequency of the word 'Butterfly Effect' is: 50\n"
          ]
        }
      ],
      "source": [
        "# Question 3\n",
        "# Add your code for Question 3 here (inside a code cell)\n",
        "import requests\n",
        "from bs4 import BeautifulSoup\n",
        "import re\n",
        "import string\n",
        "\n",
        "def trimPunct(word):\n",
        "\n",
        "    # I am including words where effect is followed immediatley by some form of punctuation\n",
        "    # \"butterfly effect. butterfly effect, (butterfly effect), ect\"\n",
        "    word = word.strip(string.punctuation)\n",
        "\n",
        "\n",
        "    # I am specifically ommiting the term \"butterfly effects\", uncomment this code to include it. \n",
        "\n",
        "    if word.endswith(\"s\"):\n",
        "        word = word[:-1]\n",
        "\n",
        "    return word\n",
        "\n",
        "url = \"https://en.wikipedia.org/wiki/Butterfly_effect\"\n",
        "\n",
        "response = requests.get(url)\n",
        "\n",
        "if response.status_code == 200:\n",
        "    soup = BeautifulSoup(response.content, 'html.parser')\n",
        "    \n",
        "    content = soup.find(id = 'mw-content-text')\n",
        "\n",
        "    text = content.get_text().lower()\n",
        "\n",
        "    words = text.split()\n",
        "\n",
        "    freq = 0\n",
        "    flag = 0\n",
        "    \n",
        "    for word in words:\n",
        "        word = trimPunct(word)\n",
        "\n",
        "        if word == \"butterfly\":\n",
        "            flag = 1\n",
        "            continue\n",
        "\n",
        "        if(flag == 1):\n",
        "            if (word == \"effect\"):\n",
        "                freq += 1\n",
        "            flag = 0\n",
        "\n",
        "    print(\"Frequency of the word 'Butterfly Effect' is:\", freq)\n",
        "else:\n",
        "    print(\"Error: Unable to retrieve the web page\")\n",
        "\n",
        "\n",
        "# Run the cell to display your results"
      ]
    }
  ],
  "metadata": {
    "colab": {
      "provenance": []
    },
    "kernelspec": {
      "display_name": "Python 3",
      "language": "python",
      "name": "python3"
    },
    "language_info": {
      "codemirror_mode": {
        "name": "ipython",
        "version": 3
      },
      "file_extension": ".py",
      "mimetype": "text/x-python",
      "name": "python",
      "nbconvert_exporter": "python",
      "pygments_lexer": "ipython3",
      "version": "3.9.6"
    }
  },
  "nbformat": 4,
  "nbformat_minor": 5
}
